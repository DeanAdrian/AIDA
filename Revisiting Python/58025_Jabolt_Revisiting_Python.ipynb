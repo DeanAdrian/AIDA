{
  "nbformat": 4,
  "nbformat_minor": 0,
  "metadata": {
    "colab": {
      "name": "58025_Jabolt_Revisiting Python.ipynb",
      "provenance": [],
      "collapsed_sections": [],
      "include_colab_link": true
    },
    "kernelspec": {
      "name": "python3",
      "display_name": "Python 3"
    }
  },
  "cells": [
    {
      "cell_type": "markdown",
      "metadata": {
        "id": "view-in-github",
        "colab_type": "text"
      },
      "source": [
        "<a href=\"https://colab.research.google.com/github/DeanAdrian/AIDA/blob/main/Revisiting%20Python/58025_Jabolt_Revisiting_Python.ipynb\" target=\"_parent\"><img src=\"https://colab.research.google.com/assets/colab-badge.svg\" alt=\"Open In Colab\"/></a>"
      ]
    },
    {
      "cell_type": "markdown",
      "metadata": {
        "id": "CC8q4BpoP7Hk"
      },
      "source": [
        "# <div align=\"center\">**Revisiting Python**</div> \r\n",
        "\r\n",
        "| Submitted By:          | Instructor:               |\r\n",
        "|------------------------|---------------------------|\r\n",
        "| Baluyot, John Michael  | Engr. Dylan Josh D. Lopez |\r\n",
        "| Barona, Federico III   |                           | \r\n",
        "| Estocapio, Dean Adrian |                           |\r\n",
        "| Garcia, Lance Gabriel  |                           | \r\n"
      ]
    },
    {
      "cell_type": "markdown",
      "metadata": {
        "id": "nohCz_DmKe43"
      },
      "source": [
        "# I.\tObjectives\r\n",
        "\r\n",
        "This laboratory activity aims to review the programming principles necessary for AI programming and data analytics through:\r\n",
        "-\tCreating programming visualization tools and documentation techniques;\r\n",
        "-\tApplying the basic data structures and algorithms in Python; and\r\n",
        "-\tApplying principles of object-oriented programming in Python\r\n"
      ]
    },
    {
      "cell_type": "markdown",
      "metadata": {
        "id": "HO8VQvvQK4pb"
      },
      "source": [
        "# II. Methods\r\n",
        "\r\n",
        "  This activity practices the previously discussed topics of Python and writing multiple lines of code in separate cells in accordance to the appropriate topic. There are multiple deliverables in this activity, at least one for each of the given topics/parts of Python. The following results in code blocks were achieved through the reunderstanding of previously discussed topic and finding ways to implement them in a different way."
      ]
    },
    {
      "cell_type": "markdown",
      "metadata": {
        "id": "0tQeCI4LOVbJ"
      },
      "source": [
        "# III. Results"
      ]
    },
    {
      "cell_type": "markdown",
      "metadata": {
        "id": "1hUSc6pY_0el"
      },
      "source": [
        "# Revisiting Python\r\n",
        "by Jabolt \\\\\r\n",
        "\r\n",
        "For this activity, The requirement are to create our own examples of the multiple implementation techniques in coding using the Python Language \\\\"
      ]
    },
    {
      "cell_type": "markdown",
      "metadata": {
        "id": "dHIDOIDkB-qi"
      },
      "source": [
        "## Variables & Data Types"
      ]
    },
    {
      "cell_type": "markdown",
      "metadata": {
        "id": "yEnj6ssqdecm"
      },
      "source": [
        "Assigning Variables \\\\\r\n",
        "\r\n",
        "* assigning variable to a number is allowed\r\n",
        "* assigning multiple variable to multiple number is also applicable\r\n",
        "* a variable can also be assigned to a string\r\n",
        "* it can also be assigned to multiple variable  two different datatypes"
      ]
    },
    {
      "cell_type": "code",
      "metadata": {
        "id": "E1T9REe-bpzO"
      },
      "source": [
        "a = 10\r\n",
        "b,c = 20,30.5\r\n",
        "d = \"40\" \r\n",
        "e,f,g = \"number 50\", 60 , 70.5\r\n",
        "\r\n"
      ],
      "execution_count": null,
      "outputs": []
    },
    {
      "cell_type": "markdown",
      "metadata": {
        "id": "IaJPLBoYfO3n"
      },
      "source": [
        "Identifying the Data types\r\n",
        "* by using the \"Type([variable])\" statement, this can identify the datatype of an specific variable\r\n",
        "* multiple datatypes can be printed using \"print\" statement\r\n",
        "* an str datatype can be converted into an int"
      ]
    },
    {
      "cell_type": "code",
      "metadata": {
        "id": "eEAEeoZtoApD"
      },
      "source": [
        "type(a)"
      ],
      "execution_count": null,
      "outputs": []
    },
    {
      "cell_type": "code",
      "metadata": {
        "id": "EJLZtcIioH-p"
      },
      "source": [
        "type(d)"
      ],
      "execution_count": null,
      "outputs": []
    },
    {
      "cell_type": "code",
      "metadata": {
        "id": "cMoH_0NToMFS"
      },
      "source": [
        "type(g)"
      ],
      "execution_count": null,
      "outputs": []
    },
    {
      "cell_type": "code",
      "metadata": {
        "id": "-GCPG_bzfQeH"
      },
      "source": [
        "print (\"The datatype of variable d is\",type(a))\r\n",
        "print (\"The datatype of variable d is\",type(e))\r\n",
        "print (\"The datatype of variable d is\",type(g))\r\n",
        "d_int= int(d)\r\n",
        "print(\"\\n\\nVariable d is now converted into: \",type(d_int))"
      ],
      "execution_count": null,
      "outputs": []
    },
    {
      "cell_type": "markdown",
      "metadata": {
        "id": "0NGP7pkUCTsL"
      },
      "source": [
        "## Arithmethic"
      ]
    },
    {
      "cell_type": "markdown",
      "metadata": {
        "id": "02a4QTh_MNSr"
      },
      "source": [
        "ADDITION: \\\\\r\n",
        "Simple Addition of Two Numbers \\\\\r\n",
        "\r\n",
        "* the variable \"sum\" is named to signify operation of adding the two numbers \\\\\r\n",
        "* note: float is used to allow adding of decimal numbers \\\\\r\n",
        "also to specify the variable (\"n1,n2\") as a number, and not as a string"
      ]
    },
    {
      "cell_type": "code",
      "metadata": {
        "id": "7-X44b_nGXZr",
        "colab": {
          "base_uri": "https://localhost:8080/"
        },
        "outputId": "82d34461-6d18-4376-8d51-e85d02fbcbec"
      },
      "source": [
        "n1 = input(\"enter first number:\")       \r\n",
        "n2 = input(\"enter second number:\")\r\n",
        "\r\n",
        "sum = float(n1) + float(n2) \r\n",
        "print(\"Answer:\",n1,\"+\",n2,\"=\", sum)              "
      ],
      "execution_count": null,
      "outputs": [
        {
          "output_type": "stream",
          "text": [
            "enter first number:10\n",
            "enter second number:5\n",
            "Answer: 10 + 5 = 15.0\n"
          ],
          "name": "stdout"
        }
      ]
    },
    {
      "cell_type": "markdown",
      "metadata": {
        "id": "eR3pYqBbOVy2"
      },
      "source": [
        "SUBTRACTION: \\\\\r\n",
        "Simple Subtraction of Two Numbers\r\n",
        "* the variable \"dif\" is named to signify operation of subtracting two numbers \\\\\r\n",
        "* note: float is used to allow adding of decimal numbers \\\\\r\n",
        "also to specify the variable (\"n1,n2\") as a number, and not as a string"
      ]
    },
    {
      "cell_type": "code",
      "metadata": {
        "id": "y3I_puNhMsnV"
      },
      "source": [
        "n1 = input(\"enter subtrahend:\")       \r\n",
        "n2 = input(\"enter minuend:\")\r\n",
        "\r\n",
        "dif = float(n1) - float(n2) \r\n",
        "print(\"Answer:\",n1,\"-\",n2,\"=\", dif)   "
      ],
      "execution_count": null,
      "outputs": []
    },
    {
      "cell_type": "markdown",
      "metadata": {
        "id": "aAcbmdzTQot2"
      },
      "source": [
        "MULTIPLICATION: \\\\\r\n",
        "Simple Multiplication of Two Numbers\r\n",
        "* the variable \"prod\" is named to signify operation of multiplying two numbers \\\\\r\n",
        "* note: float is used to allow adding of decimal numbers \\\\\r\n",
        "also to specify the variable (\"n1,n2\") as a number, and not as a string"
      ]
    },
    {
      "cell_type": "code",
      "metadata": {
        "id": "RtX01HrtImPM"
      },
      "source": [
        "n1 = input(\"enter first number:\")       \r\n",
        "n2 = input(\"enter second number:\")\r\n",
        "\r\n",
        "prod = float(n1) * float(n2) \r\n",
        "print(\"Answer:\",n1,\"x\",n2,\"=\", prod)   "
      ],
      "execution_count": null,
      "outputs": []
    },
    {
      "cell_type": "markdown",
      "metadata": {
        "id": "WfsBpMmsTWzn"
      },
      "source": [
        "DIVISION: \\\\\r\n",
        "Simple Division of Two Numbers\r\n",
        "* the variable \"div\" is named to signify the operation of dividing two numbers \\\\\r\n",
        "* note: float is used to allow adding of decimal numbers \\\\\r\n",
        "also to specify the variable (\"n1,n2\") as a number, and not as a string"
      ]
    },
    {
      "cell_type": "code",
      "metadata": {
        "id": "WLaMgiwvTOEu",
        "colab": {
          "base_uri": "https://localhost:8080/"
        },
        "outputId": "b547b2c5-97cb-4cbe-aebe-514aef8dbf58"
      },
      "source": [
        "n1 = input(\"enter divisor:\")       \r\n",
        "n2 = input(\"enter dividend:\")\r\n",
        "\r\n",
        "quo= float(n1) / float(n2) \r\n",
        "print(\"Answer:\",n1,\"/\",n2,\"=\", quo)   "
      ],
      "execution_count": null,
      "outputs": [
        {
          "output_type": "stream",
          "text": [
            "enter divisor:10\n",
            "enter dividend:5\n",
            "Answer: 10 / 5 = 2.0\n"
          ],
          "name": "stdout"
        }
      ]
    },
    {
      "cell_type": "markdown",
      "metadata": {
        "id": "t9XIS2rWUuU0"
      },
      "source": [
        "DIVISION: \\\\\r\n",
        "Floor Division of Two numbers\r\n",
        "* the variable \"fdiv\" is named to signify the operation of floor dividing between two numbers \\\\\r\n",
        "* note: float is used to allow adding of decimal numbers \\\\\r\n",
        "also to specify the variable (\"n1,n2\") as a number, and not as a string"
      ]
    },
    {
      "cell_type": "code",
      "metadata": {
        "colab": {
          "base_uri": "https://localhost:8080/"
        },
        "id": "xqymhM52UmrK",
        "outputId": "b546b4d3-5282-4e0c-9faf-7a125b74af2e"
      },
      "source": [
        "n1 = input(\"enter divisor:\")       \r\n",
        "n2 = input(\"enter dividend:\")\r\n",
        "\r\n",
        "fdiv= float(n1) // float(n2) \r\n",
        "print(\"Answer:\",n1,\"/\",n2,\"=\", fdiv)   "
      ],
      "execution_count": null,
      "outputs": [
        {
          "output_type": "stream",
          "text": [
            "enter divisor:10\n",
            "enter dividend:5\n",
            "Answer: 10 / 5 = 2.0\n"
          ],
          "name": "stdout"
        }
      ]
    },
    {
      "cell_type": "markdown",
      "metadata": {
        "id": "6-CjZuivTMq-"
      },
      "source": [
        "EXPONENTIATION: \\\\\r\n",
        "Example of Exponentiation\r\n",
        "* the variable \"exp\" is named to signify exponentiation of two given numbers \\\\\r\n",
        "* note: float is used to allow adding of decimal numbers \\\\\r\n",
        "also to specify the variable (\"n1,n2\") as a number, and not as a string"
      ]
    },
    {
      "cell_type": "code",
      "metadata": {
        "id": "miMePEFbL0zS",
        "colab": {
          "base_uri": "https://localhost:8080/"
        },
        "outputId": "52733a1c-40d1-4031-e7c6-2309f88c39c7"
      },
      "source": [
        "n1 = input(\"enter Base:\")       \r\n",
        "n2 = input(\"enter Index:\")\r\n",
        "\r\n",
        "exp= float(n1) ** float(n2) \r\n",
        "print(\"Answer:\",n1,\"^\",n2,\"=\", exp)   "
      ],
      "execution_count": null,
      "outputs": [
        {
          "output_type": "stream",
          "text": [
            "enter Base:10\n",
            "enter Index:5\n",
            "Answer: 10 ^ 5 = 100000.0\n"
          ],
          "name": "stdout"
        }
      ]
    },
    {
      "cell_type": "markdown",
      "metadata": {
        "id": "hGdcT5zxW3DW"
      },
      "source": [
        "MODULO: \\\\\r\n",
        "Example of MODULO\r\n",
        "\r\n",
        "* the variable \"modu\" is named to signify the operation of finding the remainder between two given number \\\\\r\n",
        "* note: float is used to allow adding of decimal numbers \\\\\r\n",
        "also to specify the variable (\"n1,n2\") as a number, and not as a string"
      ]
    },
    {
      "cell_type": "code",
      "metadata": {
        "id": "lmDQ9_N_NLn0",
        "colab": {
          "base_uri": "https://localhost:8080/"
        },
        "outputId": "e395480e-100b-4a34-a86c-57e44aa99fcc"
      },
      "source": [
        "n1 = input(\"enter first number:\")       \r\n",
        "n2 = input(\"enter second number:\")\r\n",
        "\r\n",
        "exp= float(n1) % float(n2) \r\n",
        "print(\"The Modulo of:\",n1,\"%\",n2,\"=\", exp)   "
      ],
      "execution_count": null,
      "outputs": [
        {
          "output_type": "stream",
          "text": [
            "enter first number:10\n",
            "enter second number:5\n",
            "The Modulo of: 10 % 5 = 0.0\n"
          ],
          "name": "stdout"
        }
      ]
    },
    {
      "cell_type": "markdown",
      "metadata": {
        "id": "k5mU4fsACpE4"
      },
      "source": [
        "### Assignment Operations"
      ]
    },
    {
      "cell_type": "markdown",
      "metadata": {
        "id": "3p_7uaxh6-PS"
      },
      "source": [
        "\r\n",
        "* Below is the cell code that will show the uses of assignment operations to change\r\n",
        "the value of an already declared variable. As shown below three variables had their\r\n",
        "values changed after an operation was assigned before each print statements."
      ]
    },
    {
      "cell_type": "code",
      "metadata": {
        "colab": {
          "base_uri": "https://localhost:8080/"
        },
        "id": "bI65kk07h1sn",
        "outputId": "2d968b02-968f-4d5e-d3b5-d9d59319de0a"
      },
      "source": [
        "X1, X2, X3, X4, X5 = -12, 10, 22, 38, 50\r\n",
        "X1 -= X2\r\n",
        "X4 *= X5\r\n",
        "X5 //= X4\r\n",
        "\r\n",
        "print(X1)\r\n",
        "print(X3)\r\n",
        "print(X4)"
      ],
      "execution_count": null,
      "outputs": [
        {
          "output_type": "stream",
          "text": [
            "-22\n",
            "22\n",
            "1900\n"
          ],
          "name": "stdout"
        }
      ]
    },
    {
      "cell_type": "markdown",
      "metadata": {
        "id": "RAgB1zy0CYJA"
      },
      "source": [
        "### Comparators"
      ]
    },
    {
      "cell_type": "markdown",
      "metadata": {
        "id": "zhMCChJE9hYJ"
      },
      "source": [
        "* Using relational operations (such as \"==,<,>\"), it enables it to compare two \r\n",
        "values\r\n",
        "* note: it is important to consider converting the entered value into an int, so that the code will not be confused into considering it as a string, thus rendering the relational operators correct"
      ]
    },
    {
      "cell_type": "code",
      "metadata": {
        "id": "mJZSsYiLnOox",
        "colab": {
          "base_uri": "https://localhost:8080/"
        },
        "outputId": "4704528c-46eb-4e2e-b766-021c2e589d27"
      },
      "source": [
        "a = int(input(\"value of a: \"))\r\n",
        "b = int(input(\"value of b: \"))\r\n",
        "\r\n",
        "if(a==b):\r\n",
        "  print(\"a is equal to b\")\r\n",
        "elif(a<b):\r\n",
        "  print(\"a is less than b\")\r\n",
        "elif(a>b):\r\n",
        "  print(\"a is greater than b\")\r\n"
      ],
      "execution_count": 8,
      "outputs": [
        {
          "output_type": "stream",
          "text": [
            "value of a: 21\n",
            "value of b: 21\n",
            "a is equal to b\n"
          ],
          "name": "stdout"
        }
      ]
    },
    {
      "cell_type": "markdown",
      "metadata": {
        "id": "TQVQMyZJCdY8"
      },
      "source": [
        "### Logical "
      ]
    },
    {
      "cell_type": "markdown",
      "metadata": {
        "id": "xubrGjTA_mE_"
      },
      "source": [
        "* Below is a program that will check again if the value of a and b given in the cell above \r\n",
        "is indeed correct by with only two possible outputs, either being True or False."
      ]
    },
    {
      "cell_type": "code",
      "metadata": {
        "id": "h-81pW9KpqMJ",
        "colab": {
          "base_uri": "https://localhost:8080/"
        },
        "outputId": "cd3514a9-5269-40c6-bf96-431399f76f10"
      },
      "source": [
        "recheck = a == b\r\n",
        "print(\"The values of a and b being equal is indeed {}\".format(recheck))"
      ],
      "execution_count": 9,
      "outputs": [
        {
          "output_type": "stream",
          "text": [
            "The values of a and b being equal is indeed True\n"
          ],
          "name": "stdout"
        }
      ]
    },
    {
      "cell_type": "markdown",
      "metadata": {
        "id": "VD_j6POACgCY"
      },
      "source": [
        "### I/O"
      ]
    },
    {
      "cell_type": "markdown",
      "metadata": {
        "id": "YN8n8NQW7B-5"
      },
      "source": [
        "INPUT and OUTPUT (I/O) \\\\\r\n",
        "\r\n",
        "* using the statement \"input\" allows the code to accept and assigned (to a variable) the inputted str,float or int.\r\n",
        "* using print statement allows it to execute and series of string.\r\n",
        "* it also allows printing the previously the inputted or assigned value from the variable"
      ]
    },
    {
      "cell_type": "code",
      "metadata": {
        "id": "3tWBv2bXjpWf",
        "colab": {
          "base_uri": "https://localhost:8080/"
        },
        "outputId": "968e2a3a-70c8-433c-c546-fd7f5af119f4"
      },
      "source": [
        "name = input(\"Please Enter your FullName: \")\r\n",
        "age = input(\"Enter your age \")\r\n",
        "gender = input(\"Gender?:\")\r\n",
        "age5y = (int(age))\r\n",
        "\r\n",
        "print(\"\\n Your Given Identity is as follows \\n Name:\",name,\"\\n Age:\",age,\"\\n Gender:\",gender)\r\n",
        "print(\"\\n Your Age after 5 years is: \" ,age5y+5 )\r\n"
      ],
      "execution_count": 6,
      "outputs": [
        {
          "output_type": "stream",
          "text": [
            "Please Enter your FullName: john john\n",
            "Enter your age 21\n",
            "Gender?:m\n",
            "\n",
            " Your Given Identity is as follows \n",
            " Name: john john \n",
            " Age: 21 \n",
            " Gender: m\n",
            "\n",
            " Your Age after 5 years is:  26\n"
          ],
          "name": "stdout"
        }
      ]
    },
    {
      "cell_type": "markdown",
      "metadata": {
        "id": "xXNN_ca9Cyq0"
      },
      "source": [
        "## Looping Statements"
      ]
    },
    {
      "cell_type": "markdown",
      "metadata": {
        "id": "r-gAY8LqC7EX"
      },
      "source": [
        "### While Loops"
      ]
    },
    {
      "cell_type": "markdown",
      "metadata": {
        "id": "CNTXzxbn168Z"
      },
      "source": [
        "* The While Loop Program below is a program created to countdown from 10 until it reaches 0, printing each number as it counts down.\r\n",
        "\r\n",
        "* The while function on line 3, checks if the condition has been met, and if not the loop continues.\r\n",
        "\r\n",
        "* The value of the Start variable also decreases by 1 to ensure that eventually after enough loops the condition will finally be met and the loop should stop.\r\n"
      ]
    },
    {
      "cell_type": "code",
      "metadata": {
        "id": "pYn0TzFxxS8Q",
        "colab": {
          "base_uri": "https://localhost:8080/"
        },
        "outputId": "f8fa2746-f192-4fdd-9703-b8e726f5b4d8"
      },
      "source": [
        "#Program that counts down from 10 to 0\r\n",
        "Start = 10\r\n",
        "while (Start >= 0):\r\n",
        "  print(\"{}!\".format(Start)) \r\n",
        "  Start = Start -1 \r\n",
        "print(\"Countdown Complete!\")"
      ],
      "execution_count": 5,
      "outputs": [
        {
          "output_type": "stream",
          "text": [
            "10!\n",
            "9!\n",
            "8!\n",
            "7!\n",
            "6!\n",
            "5!\n",
            "4!\n",
            "3!\n",
            "2!\n",
            "1!\n",
            "0!\n",
            "Countdown Complete!\n"
          ],
          "name": "stdout"
        }
      ]
    },
    {
      "cell_type": "markdown",
      "metadata": {
        "id": "jc-MSf9nC612"
      },
      "source": [
        "### For Loops"
      ]
    },
    {
      "cell_type": "markdown",
      "metadata": {
        "id": "5g6mvpKY6Iso"
      },
      "source": [
        "* The program in the cell below contains a list of numbers, and two variables namely: sum and count.\r\n",
        "\r\n",
        "* All three are to be used in the for loop starting at line 5. \r\n",
        "\r\n",
        "* The for loop will do two things first is to compute for the sum of all numerical items in the list, and then next is to count how many items were in the list in the first place."
      ]
    },
    {
      "cell_type": "code",
      "metadata": {
        "id": "HV9VZ01hDq_c",
        "colab": {
          "base_uri": "https://localhost:8080/"
        },
        "outputId": "ce637d02-df34-4098-989a-a0cdd1de9113"
      },
      "source": [
        "List = [1,45, 32, 81, 42, 46, 32, 23, -23]\r\n",
        "sum = 0\r\n",
        "count = 0\r\n",
        "\r\n",
        "for item in List:\r\n",
        "  count=count+1\r\n",
        "  sum = sum+item\r\n",
        "   \r\n",
        "\r\n",
        "print(\"The sum of all numbers in the list is:\", sum)\r\n",
        "print(\"There are {} items in the list\".format(count))"
      ],
      "execution_count": 4,
      "outputs": [
        {
          "output_type": "stream",
          "text": [
            "The sum of all numbers in the list is: 279\n",
            "There are 9 items in the list\n"
          ],
          "name": "stdout"
        }
      ]
    },
    {
      "cell_type": "markdown",
      "metadata": {
        "id": "t-J_Kp4IKL95"
      },
      "source": [
        "## Iterables"
      ]
    },
    {
      "cell_type": "markdown",
      "metadata": {
        "id": "unqeDhk68wP5"
      },
      "source": [
        "* This program in a cell below prints another list with each item containing a name of a poken and its respective level. \r\n",
        "\r\n",
        "* Right below the list is a print statement that will print the first item in the list, without the level, because the second number only calls the name of the pokemon and not the number.\r\n",
        "\r\n",
        "* There is also a for loop added in printing looping for each item in the list and only calling the name of the Pokemon once again.\r\n",
        "\r\n"
      ]
    },
    {
      "cell_type": "code",
      "metadata": {
        "id": "CKDjMJfLKOMW",
        "colab": {
          "base_uri": "https://localhost:8080/"
        },
        "outputId": "9349d789-5eb6-4f15-947a-1f2998e15eb8"
      },
      "source": [
        "Team = [(\"Charizard\", 93), (\"Blastoise\", 95), (\"Venusaur\", 90)]\r\n",
        "print(Team[0][0],\"\\n\")\r\n",
        "\r\n",
        "for member,level in Team:\r\n",
        "  print(member)"
      ],
      "execution_count": 3,
      "outputs": [
        {
          "output_type": "stream",
          "text": [
            "Charizard \n",
            "\n",
            "Charizard\n",
            "Blastoise\n",
            "Venusaur\n"
          ],
          "name": "stdout"
        }
      ]
    },
    {
      "cell_type": "markdown",
      "metadata": {
        "id": "G0O199J_jNt3"
      },
      "source": [
        "## Conditional Statement"
      ]
    },
    {
      "cell_type": "markdown",
      "metadata": {
        "id": "YnBe2_cx_xY6"
      },
      "source": [
        "* The code below contains a conditional statement that will check if the two strings entered are the same.\r\n",
        "\r\n",
        "* After checking if the two are similar the code will then print an appropriate output as a response."
      ]
    },
    {
      "cell_type": "code",
      "metadata": {
        "id": "AanZ9-ytjTW0",
        "colab": {
          "base_uri": "https://localhost:8080/"
        },
        "outputId": "7b177712-ca25-4562-ea32-c904acf661c7"
      },
      "source": [
        "password = input(\"Please create a Password:\")\r\n",
        "confirm = input(\"Please Reenter Password: \")\r\n",
        "if(password == confirm):\r\n",
        "    print(\"Passwords Match\")\r\n",
        "elif(password != confirm):\r\n",
        "    print(\"The created passwords are not the same\")"
      ],
      "execution_count": 2,
      "outputs": [
        {
          "output_type": "stream",
          "text": [
            "Please create a Password:python\n",
            "Please Reenter Password: python\n",
            "Passwords Match\n"
          ],
          "name": "stdout"
        }
      ]
    },
    {
      "cell_type": "markdown",
      "metadata": {
        "id": "IngoD5CQ6sQJ"
      },
      "source": [
        "## Functions"
      ]
    },
    {
      "cell_type": "markdown",
      "metadata": {
        "id": "sV5j8E64CokX"
      },
      "source": [
        "* Using the statement \"def\" enables the code to define a specific functions and argument\r\n",
        "* The code in the cell below is a function the checks whether the entered number is either even or odd\r\n",
        "* Calling the whole function will execute the functions only "
      ]
    },
    {
      "cell_type": "code",
      "metadata": {
        "id": "ERCt6duV6vyR",
        "colab": {
          "base_uri": "https://localhost:8080/"
        },
        "outputId": "270403cf-c028-451e-c32a-cc33b3b9d355"
      },
      "source": [
        "number = 0\r\n",
        "def even_or_odd(number):\r\n",
        "    number = int(input(\"Enter a number: \"))\r\n",
        "    if (number % 2) == 0:\r\n",
        "       print(\"{} is an Even number\".format(number))\r\n",
        "    else:\r\n",
        "       print(\"{} is an Odd number\".format(number))\r\n",
        "\r\n",
        "even_or_odd(number)"
      ],
      "execution_count": 1,
      "outputs": [
        {
          "output_type": "stream",
          "text": [
            "Enter a number: 21\n",
            "21 is an Odd number\n"
          ],
          "name": "stdout"
        }
      ]
    },
    {
      "cell_type": "markdown",
      "metadata": {
        "id": "CsP0c3GV575r"
      },
      "source": [
        "## LAMBDA"
      ]
    },
    {
      "cell_type": "markdown",
      "metadata": {
        "id": "jTUjG7PrFCRt"
      },
      "source": [
        "* The function lambda can take any number of arguments and states the type of operation into it [1]\r\n",
        "* After assigning the lambda function into the variable \"multiply\", the code below will multiply the 3 declared arguements in the lambda function, with the set value 5, 6 ,2."
      ]
    },
    {
      "cell_type": "code",
      "metadata": {
        "colab": {
          "base_uri": "https://localhost:8080/"
        },
        "id": "AYXVqkRFEoBf",
        "outputId": "382fe625-5def-448b-9f93-0d7d2986764a"
      },
      "source": [
        "multiply = lambda x, y, z : x*y*z\r\n",
        "print(multiply(5, 6, 2))"
      ],
      "execution_count": null,
      "outputs": [
        {
          "output_type": "stream",
          "text": [
            "60\n"
          ],
          "name": "stdout"
        }
      ]
    },
    {
      "cell_type": "markdown",
      "metadata": {
        "id": "aRSNQutVELfe"
      },
      "source": [
        "## Activity: Grade Calculator"
      ]
    },
    {
      "cell_type": "markdown",
      "metadata": {
        "id": "zdlr57qQa5yy"
      },
      "source": [
        "* This activity computes shows your semestral grade after inputting your prelim, midterm and final grade.\r\n",
        "* This activity also uses conditional statements that will output different results depending on the computed grade.\r\n",
        "* The program will also display the student name inputted in the results along with the computed grade.\r\n"
      ]
    },
    {
      "cell_type": "code",
      "metadata": {
        "id": "1SSJP8iqBK8I",
        "colab": {
          "base_uri": "https://localhost:8080/"
        },
        "outputId": "e5e661e5-9c1e-4137-ec15-1fc5968d6c3c"
      },
      "source": [
        "print (\"GRADE CALCULATOR\\n\")\r\n",
        "name = input(\"Student Name: \")\r\n",
        "courseName = input(\"Course: \")\r\n",
        "prelimGrade = float(input(\"\\nPrelim Grade: \"))\r\n",
        "midtermGrade = float(input(\"Midterm Grade: \"))\r\n",
        "finalGrade = float(input(\"Final Grade: \"))\r\n",
        "semGrade = (prelimGrade*.30) + (midtermGrade*.30) + (finalGrade*.40)\r\n",
        "#print(\"Hello {}, your semestral grade is {:.2f}\".format(name, semGrade)) \r\n",
        "if (semGrade > 70):\r\n",
        "  print(\"\\n\\U0001F600 \" \"Hello {}, your semestral grade is {:.2f} \\U0001F600\".format(name, semGrade))\r\n",
        "if (semGrade == 70):\r\n",
        "  print(\"\\n\\U0001F923 \" \"Hello {}, your semestral grade is {:.2f} \\U0001F923\".format(name, semGrade))\r\n",
        "if (semGrade < 70):\r\n",
        "  print(\"\\n\\U0001F61E \" \"Hello {}, your semestral grade is {:.2f} \\U0001F61E\".format(name, semGrade))"
      ],
      "execution_count": null,
      "outputs": [
        {
          "output_type": "stream",
          "text": [
            "GRADE CALCULATOR\n",
            "\n",
            "Student Name: Lance Gabriel Garcia\n",
            "Course: Computer Engineering\n",
            "\n",
            "Prelim Grade: 90\n",
            "Midterm Grade: 85\n",
            "Final Grade: 80\n",
            "\n",
            "😀 Hello Lance Gabriel Garcia, your semestral grade is 84.50 😀\n"
          ],
          "name": "stdout"
        }
      ]
    },
    {
      "cell_type": "markdown",
      "metadata": {
        "id": "2NtQmMNRObbw"
      },
      "source": [
        "# IV. Conclusion\r\n",
        "\r\n",
        "The activity's main focus is to refresh our knowledge with Python Programming language. This activity helped in reviewing the Python's basic data structures and algorithms. This review covers the different arithmetic operations, comparators and logical statements, basic input output, looping and conditional statements, and functions. The different parts of the activity showed and discussed how to use these codes in Python to meet the required or intended functions of the program. The activity also introduced on how to create documentation techniques using Google Colabs. The activity also helped in familiarizing the different features of Google Colabs. \r\n"
      ]
    },
    {
      "cell_type": "markdown",
      "metadata": {
        "id": "3dZJJlKWaCRu"
      },
      "source": [
        "# Reference \r\n",
        "\r\n",
        "[1]\"Python Lambda\", W3schools.com. [Online]. Available: [Link](https://www.w3schools.com/python/python_lambda.asp). [Accessed: 11- Feb- 2021]"
      ]
    }
  ]
}